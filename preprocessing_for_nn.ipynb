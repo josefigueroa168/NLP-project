{
 "cells": [
  {
   "cell_type": "code",
   "execution_count": 10,
   "metadata": {},
   "outputs": [],
   "source": [
    "from nltk.corpus import treebank,brown, movie_reviews, wordnet\n",
    "from gensim.models import Word2Vec\n",
    "import gensim.models\n",
    "import pandas as pd\n",
    "import numpy as np\n",
    "from nltk.data import find"
   ]
  },
  {
   "cell_type": "code",
   "execution_count": 3,
   "metadata": {},
   "outputs": [],
   "source": [
    "t = Word2Vec(treebank.sents())\n",
    "b = Word2Vec(brown.sents())\n",
    "mr = Word2Vec(movie_reviews.sents())"
   ]
  },
  {
   "cell_type": "code",
   "execution_count": 11,
   "metadata": {},
   "outputs": [],
   "source": [
    "word2vec_sample = str(find('models/word2vec_sample/pruned.word2vec.txt'))\n",
    "model = gensim.models.KeyedVectors.load_word2vec_format(word2vec_sample, binary=False)"
   ]
  },
  {
   "cell_type": "code",
   "execution_count": 114,
   "metadata": {},
   "outputs": [],
   "source": [
    "df = pd.read_csv('data/amr-bank-struct-v1.6-dev.csv')\n",
    "# df = pd.read_csv('data/1.csv')\n",
    "nor_word = list(df['normalized_words'])\n",
    "isfocus = list(df['isfocus'])\n",
    "index = list(df['index'])"
   ]
  },
  {
   "cell_type": "code",
   "execution_count": 115,
   "metadata": {},
   "outputs": [],
   "source": [
    "def prepro():\n",
    "    first = True\n",
    "    for i in range(len(index)):\n",
    "        if index[i]== 0 or i+1 == len(index):\n",
    "            if first:\n",
    "                first = False\n",
    "            else:\n",
    "                wv = []\n",
    "                for j in tmp_nword:\n",
    "                    if j in model:\n",
    "                        wv.append(model[j])\n",
    "                    else:\n",
    "                        wv.append(np.empty(300))\n",
    "                assert(len(wv) == index[i-1]+1)\n",
    "                n.append(np.asarray(wv))\n",
    "                assert(len(tmp_f) == len(wv))\n",
    "                f.append(np.asarray(tmp_f))\n",
    "            tmp_nword = []\n",
    "            tmp_f = []\n",
    "        tmp_nword.append(nor_word[i])\n",
    "        tmp_f.append(isfocus[i])"
   ]
  },
  {
   "cell_type": "code",
   "execution_count": 116,
   "metadata": {},
   "outputs": [],
   "source": [
    "n = []\n",
    "f = []\n",
    "prepro()"
   ]
  },
  {
   "cell_type": "code",
   "execution_count": 117,
   "metadata": {},
   "outputs": [],
   "source": [
    "n = np.asarray(n)\n",
    "f = np.asarray(f)"
   ]
  },
  {
   "cell_type": "code",
   "execution_count": null,
   "metadata": {},
   "outputs": [],
   "source": []
  },
  {
   "cell_type": "code",
   "execution_count": 118,
   "metadata": {},
   "outputs": [],
   "source": [
    "np.save('word_embedding_dev',n)\n",
    "np.save('isfocus_dev',f)"
   ]
  },
  {
   "cell_type": "code",
   "execution_count": 119,
   "metadata": {},
   "outputs": [],
   "source": [
    "x = np.load('word_embedding_dev.npy')\n",
    "y = np.load('isfocus_dev.npy')"
   ]
  },
  {
   "cell_type": "code",
   "execution_count": 120,
   "metadata": {},
   "outputs": [],
   "source": [
    "assert(len(x) == len(n))\n",
    "for i in range(len(x)):\n",
    "    assert(len(x[i]) == len(n[i]))\n",
    "    assert(x[i].all() == n[i].all())"
   ]
  },
  {
   "cell_type": "code",
   "execution_count": 121,
   "metadata": {},
   "outputs": [],
   "source": [
    "assert(len(y) == len(f))\n",
    "for i in range(len(y)):\n",
    "    assert(y[i].all() == f[i].all())"
   ]
  },
  {
   "cell_type": "code",
   "execution_count": 90,
   "metadata": {},
   "outputs": [
    {
     "data": {
      "text/plain": [
       "array([ True,  True,  True])"
      ]
     },
     "execution_count": 90,
     "metadata": {},
     "output_type": "execute_result"
    }
   ],
   "source": []
  },
  {
   "cell_type": "code",
   "execution_count": null,
   "metadata": {},
   "outputs": [],
   "source": []
  }
 ],
 "metadata": {
  "kernelspec": {
   "display_name": "Python 3",
   "language": "python",
   "name": "python3"
  },
  "language_info": {
   "codemirror_mode": {
    "name": "ipython",
    "version": 3
   },
   "file_extension": ".py",
   "mimetype": "text/x-python",
   "name": "python",
   "nbconvert_exporter": "python",
   "pygments_lexer": "ipython3",
   "version": "3.6.8"
  }
 },
 "nbformat": 4,
 "nbformat_minor": 2
}
